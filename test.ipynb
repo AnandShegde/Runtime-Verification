{
 "cells": [
  {
   "cell_type": "code",
   "execution_count": 12,
   "metadata": {},
   "outputs": [],
   "source": [
    "from random import randint\n",
    "\n",
    "f = open(\"Ass 2/testcases/property7/system.input\", \"w\")\n",
    "f.write(\"A,B,C,D\\n\")\n",
    "for _ in range(1000):\n",
    "    a = randint(0,1)\n",
    "    b = randint(0,1)\n",
    "    c = randint(0,1)\n",
    "    d = randint(0,1)\n",
    "    f.write(str(a) + \",\" + str(b) + \",\" + str(c) + \",\" + str(d) + \"\\n\")\n",
    "\n",
    "f.close()\n"
   ]
  }
 ],
 "metadata": {
  "kernelspec": {
   "display_name": "Python 3",
   "language": "python",
   "name": "python3"
  },
  "language_info": {
   "codemirror_mode": {
    "name": "ipython",
    "version": 3
   },
   "file_extension": ".py",
   "mimetype": "text/x-python",
   "name": "python",
   "nbconvert_exporter": "python",
   "pygments_lexer": "ipython3",
   "version": "3.8.10"
  },
  "orig_nbformat": 4,
  "vscode": {
   "interpreter": {
    "hash": "df0893f56f349688326838aaeea0de204df53a132722cbd565e54b24a8fec5f6"
   }
  }
 },
 "nbformat": 4,
 "nbformat_minor": 2
}
