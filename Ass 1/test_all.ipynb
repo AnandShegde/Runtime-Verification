{
 "cells": [
  {
   "cell_type": "code",
   "execution_count": 1,
   "metadata": {},
   "outputs": [],
   "source": [
    "import os"
   ]
  },
  {
   "cell_type": "code",
   "execution_count": 6,
   "metadata": {},
   "outputs": [],
   "source": [
    "inputs = os.listdir(\"testcases/property1/\")"
   ]
  },
  {
   "cell_type": "code",
   "execution_count": 7,
   "metadata": {},
   "outputs": [
    {
     "data": {
      "text/plain": [
       "'redgreen.property'"
      ]
     },
     "execution_count": 7,
     "metadata": {},
     "output_type": "execute_result"
    }
   ],
   "source": [
    "inputs.pop(0)"
   ]
  },
  {
   "cell_type": "code",
   "execution_count": 8,
   "metadata": {},
   "outputs": [
    {
     "data": {
      "text/plain": [
       "['system1.input',\n",
       " 'system1.verdict',\n",
       " 'system2.input',\n",
       " 'system2.verdict',\n",
       " 'system3.input',\n",
       " 'system3.verdict',\n",
       " 'system4.input',\n",
       " 'system4.verdict']"
      ]
     },
     "execution_count": 8,
     "metadata": {},
     "output_type": "execute_result"
    }
   ],
   "source": [
    "inputs"
   ]
  },
  {
   "cell_type": "code",
   "execution_count": null,
   "metadata": {},
   "outputs": [],
   "source": [
    "./perform_RV.sh testcases/property1/redgreen.property testcases/property1/system1.input testcases/p1s1.output"
   ]
  },
  {
   "cell_type": "code",
   "execution_count": 12,
   "metadata": {},
   "outputs": [
    {
     "name": "stdout",
     "output_type": "stream",
     "text": [
      "./perform_RV.sh testcases/property1/redgreen.property testcases/property1/system1.input testcases/property1/system0.output\n",
      "./perform_RV.sh testcases/property1/redgreen.property testcases/property1/system2.input testcases/property1/system2.output\n",
      "./perform_RV.sh testcases/property1/redgreen.property testcases/property1/system3.input testcases/property1/system4.output\n",
      "./perform_RV.sh testcases/property1/redgreen.property testcases/property1/system4.input testcases/property1/system6.output\n"
     ]
    }
   ],
   "source": [
    "for i in range(0,len(inputs), 2):\n",
    "    print(\"./perform_RV.sh testcases/property1/redgreen.property testcases/property1/\"+ inputs[i] + \" testcases/property1/\" + \"system\"+ str(i)+ \".output\" )"
   ]
  },
  {
   "cell_type": "code",
   "execution_count": null,
   "metadata": {},
   "outputs": [],
   "source": []
  }
 ],
 "metadata": {
  "kernelspec": {
   "display_name": "Python 3",
   "language": "python",
   "name": "python3"
  },
  "language_info": {
   "codemirror_mode": {
    "name": "ipython",
    "version": 3
   },
   "file_extension": ".py",
   "mimetype": "text/x-python",
   "name": "python",
   "nbconvert_exporter": "python",
   "pygments_lexer": "ipython3",
   "version": "3.9.7"
  },
  "orig_nbformat": 4,
  "vscode": {
   "interpreter": {
    "hash": "c081257499a92776a7ff5343ee4d85420a7950a6ae97b0cb2aee7a7ddd41b7f2"
   }
  }
 },
 "nbformat": 4,
 "nbformat_minor": 2
}
